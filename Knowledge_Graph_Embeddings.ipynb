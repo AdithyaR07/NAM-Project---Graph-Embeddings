{
  "nbformat": 4,
  "nbformat_minor": 0,
  "metadata": {
    "colab": {
      "provenance": [],
      "authorship_tag": "ABX9TyMBTSwr/kh06b+tZc34dwZV",
      "include_colab_link": true
    },
    "kernelspec": {
      "name": "python3",
      "display_name": "Python 3"
    },
    "language_info": {
      "name": "python"
    },
    "accelerator": "GPU",
    "gpuClass": "standard",
    "widgets": {
      "application/vnd.jupyter.widget-state+json": {
        "51bcb3e36b664ff89b86df1096b16047": {
          "model_module": "@jupyter-widgets/controls",
          "model_name": "HBoxModel",
          "model_module_version": "1.5.0",
          "state": {
            "_dom_classes": [],
            "_model_module": "@jupyter-widgets/controls",
            "_model_module_version": "1.5.0",
            "_model_name": "HBoxModel",
            "_view_count": null,
            "_view_module": "@jupyter-widgets/controls",
            "_view_module_version": "1.5.0",
            "_view_name": "HBoxView",
            "box_style": "",
            "children": [
              "IPY_MODEL_66f50888de0e4d91bc08e4be4ff6083a",
              "IPY_MODEL_01e6537a5b984c5dbf7f9ded2e5cce05",
              "IPY_MODEL_8ee2efdcd5c34b45be8fd2eca4072b6a"
            ],
            "layout": "IPY_MODEL_79d961cf37b742698827a630ec118d92"
          }
        },
        "66f50888de0e4d91bc08e4be4ff6083a": {
          "model_module": "@jupyter-widgets/controls",
          "model_name": "HTMLModel",
          "model_module_version": "1.5.0",
          "state": {
            "_dom_classes": [],
            "_model_module": "@jupyter-widgets/controls",
            "_model_module_version": "1.5.0",
            "_model_name": "HTMLModel",
            "_view_count": null,
            "_view_module": "@jupyter-widgets/controls",
            "_view_module_version": "1.5.0",
            "_view_name": "HTMLView",
            "description": "",
            "description_tooltip": null,
            "layout": "IPY_MODEL_695cf6579fab45afa36a3944ec9137ea",
            "placeholder": "​",
            "style": "IPY_MODEL_c057897e8b73459bbc95d8de562e182d",
            "value": "Epoch 1000 | mean loss: 49.53386: 100%"
          }
        },
        "01e6537a5b984c5dbf7f9ded2e5cce05": {
          "model_module": "@jupyter-widgets/controls",
          "model_name": "FloatProgressModel",
          "model_module_version": "1.5.0",
          "state": {
            "_dom_classes": [],
            "_model_module": "@jupyter-widgets/controls",
            "_model_module_version": "1.5.0",
            "_model_name": "FloatProgressModel",
            "_view_count": null,
            "_view_module": "@jupyter-widgets/controls",
            "_view_module_version": "1.5.0",
            "_view_name": "ProgressView",
            "bar_style": "success",
            "description": "",
            "description_tooltip": null,
            "layout": "IPY_MODEL_3ebe2c1659fc41dd83fedbfbbc161f5a",
            "max": 1000,
            "min": 0,
            "orientation": "horizontal",
            "style": "IPY_MODEL_719694b497c742d8919bd11247e66049",
            "value": 1000
          }
        },
        "8ee2efdcd5c34b45be8fd2eca4072b6a": {
          "model_module": "@jupyter-widgets/controls",
          "model_name": "HTMLModel",
          "model_module_version": "1.5.0",
          "state": {
            "_dom_classes": [],
            "_model_module": "@jupyter-widgets/controls",
            "_model_module_version": "1.5.0",
            "_model_name": "HTMLModel",
            "_view_count": null,
            "_view_module": "@jupyter-widgets/controls",
            "_view_module_version": "1.5.0",
            "_view_name": "HTMLView",
            "description": "",
            "description_tooltip": null,
            "layout": "IPY_MODEL_4b8cc2dd91714b59bab2820b003a75dc",
            "placeholder": "​",
            "style": "IPY_MODEL_d060e7a0e6e84a8ea3e282312d2cbda9",
            "value": " 1000/1000 [03:04&lt;00:00,  5.64epoch/s]"
          }
        },
        "79d961cf37b742698827a630ec118d92": {
          "model_module": "@jupyter-widgets/base",
          "model_name": "LayoutModel",
          "model_module_version": "1.2.0",
          "state": {
            "_model_module": "@jupyter-widgets/base",
            "_model_module_version": "1.2.0",
            "_model_name": "LayoutModel",
            "_view_count": null,
            "_view_module": "@jupyter-widgets/base",
            "_view_module_version": "1.2.0",
            "_view_name": "LayoutView",
            "align_content": null,
            "align_items": null,
            "align_self": null,
            "border": null,
            "bottom": null,
            "display": null,
            "flex": null,
            "flex_flow": null,
            "grid_area": null,
            "grid_auto_columns": null,
            "grid_auto_flow": null,
            "grid_auto_rows": null,
            "grid_column": null,
            "grid_gap": null,
            "grid_row": null,
            "grid_template_areas": null,
            "grid_template_columns": null,
            "grid_template_rows": null,
            "height": null,
            "justify_content": null,
            "justify_items": null,
            "left": null,
            "margin": null,
            "max_height": null,
            "max_width": null,
            "min_height": null,
            "min_width": null,
            "object_fit": null,
            "object_position": null,
            "order": null,
            "overflow": null,
            "overflow_x": null,
            "overflow_y": null,
            "padding": null,
            "right": null,
            "top": null,
            "visibility": null,
            "width": null
          }
        },
        "695cf6579fab45afa36a3944ec9137ea": {
          "model_module": "@jupyter-widgets/base",
          "model_name": "LayoutModel",
          "model_module_version": "1.2.0",
          "state": {
            "_model_module": "@jupyter-widgets/base",
            "_model_module_version": "1.2.0",
            "_model_name": "LayoutModel",
            "_view_count": null,
            "_view_module": "@jupyter-widgets/base",
            "_view_module_version": "1.2.0",
            "_view_name": "LayoutView",
            "align_content": null,
            "align_items": null,
            "align_self": null,
            "border": null,
            "bottom": null,
            "display": null,
            "flex": null,
            "flex_flow": null,
            "grid_area": null,
            "grid_auto_columns": null,
            "grid_auto_flow": null,
            "grid_auto_rows": null,
            "grid_column": null,
            "grid_gap": null,
            "grid_row": null,
            "grid_template_areas": null,
            "grid_template_columns": null,
            "grid_template_rows": null,
            "height": null,
            "justify_content": null,
            "justify_items": null,
            "left": null,
            "margin": null,
            "max_height": null,
            "max_width": null,
            "min_height": null,
            "min_width": null,
            "object_fit": null,
            "object_position": null,
            "order": null,
            "overflow": null,
            "overflow_x": null,
            "overflow_y": null,
            "padding": null,
            "right": null,
            "top": null,
            "visibility": null,
            "width": null
          }
        },
        "c057897e8b73459bbc95d8de562e182d": {
          "model_module": "@jupyter-widgets/controls",
          "model_name": "DescriptionStyleModel",
          "model_module_version": "1.5.0",
          "state": {
            "_model_module": "@jupyter-widgets/controls",
            "_model_module_version": "1.5.0",
            "_model_name": "DescriptionStyleModel",
            "_view_count": null,
            "_view_module": "@jupyter-widgets/base",
            "_view_module_version": "1.2.0",
            "_view_name": "StyleView",
            "description_width": ""
          }
        },
        "3ebe2c1659fc41dd83fedbfbbc161f5a": {
          "model_module": "@jupyter-widgets/base",
          "model_name": "LayoutModel",
          "model_module_version": "1.2.0",
          "state": {
            "_model_module": "@jupyter-widgets/base",
            "_model_module_version": "1.2.0",
            "_model_name": "LayoutModel",
            "_view_count": null,
            "_view_module": "@jupyter-widgets/base",
            "_view_module_version": "1.2.0",
            "_view_name": "LayoutView",
            "align_content": null,
            "align_items": null,
            "align_self": null,
            "border": null,
            "bottom": null,
            "display": null,
            "flex": null,
            "flex_flow": null,
            "grid_area": null,
            "grid_auto_columns": null,
            "grid_auto_flow": null,
            "grid_auto_rows": null,
            "grid_column": null,
            "grid_gap": null,
            "grid_row": null,
            "grid_template_areas": null,
            "grid_template_columns": null,
            "grid_template_rows": null,
            "height": null,
            "justify_content": null,
            "justify_items": null,
            "left": null,
            "margin": null,
            "max_height": null,
            "max_width": null,
            "min_height": null,
            "min_width": null,
            "object_fit": null,
            "object_position": null,
            "order": null,
            "overflow": null,
            "overflow_x": null,
            "overflow_y": null,
            "padding": null,
            "right": null,
            "top": null,
            "visibility": null,
            "width": null
          }
        },
        "719694b497c742d8919bd11247e66049": {
          "model_module": "@jupyter-widgets/controls",
          "model_name": "ProgressStyleModel",
          "model_module_version": "1.5.0",
          "state": {
            "_model_module": "@jupyter-widgets/controls",
            "_model_module_version": "1.5.0",
            "_model_name": "ProgressStyleModel",
            "_view_count": null,
            "_view_module": "@jupyter-widgets/base",
            "_view_module_version": "1.2.0",
            "_view_name": "StyleView",
            "bar_color": null,
            "description_width": ""
          }
        },
        "4b8cc2dd91714b59bab2820b003a75dc": {
          "model_module": "@jupyter-widgets/base",
          "model_name": "LayoutModel",
          "model_module_version": "1.2.0",
          "state": {
            "_model_module": "@jupyter-widgets/base",
            "_model_module_version": "1.2.0",
            "_model_name": "LayoutModel",
            "_view_count": null,
            "_view_module": "@jupyter-widgets/base",
            "_view_module_version": "1.2.0",
            "_view_name": "LayoutView",
            "align_content": null,
            "align_items": null,
            "align_self": null,
            "border": null,
            "bottom": null,
            "display": null,
            "flex": null,
            "flex_flow": null,
            "grid_area": null,
            "grid_auto_columns": null,
            "grid_auto_flow": null,
            "grid_auto_rows": null,
            "grid_column": null,
            "grid_gap": null,
            "grid_row": null,
            "grid_template_areas": null,
            "grid_template_columns": null,
            "grid_template_rows": null,
            "height": null,
            "justify_content": null,
            "justify_items": null,
            "left": null,
            "margin": null,
            "max_height": null,
            "max_width": null,
            "min_height": null,
            "min_width": null,
            "object_fit": null,
            "object_position": null,
            "order": null,
            "overflow": null,
            "overflow_x": null,
            "overflow_y": null,
            "padding": null,
            "right": null,
            "top": null,
            "visibility": null,
            "width": null
          }
        },
        "d060e7a0e6e84a8ea3e282312d2cbda9": {
          "model_module": "@jupyter-widgets/controls",
          "model_name": "DescriptionStyleModel",
          "model_module_version": "1.5.0",
          "state": {
            "_model_module": "@jupyter-widgets/controls",
            "_model_module_version": "1.5.0",
            "_model_name": "DescriptionStyleModel",
            "_view_count": null,
            "_view_module": "@jupyter-widgets/base",
            "_view_module_version": "1.2.0",
            "_view_name": "StyleView",
            "description_width": ""
          }
        },
        "bf42339587d14a65b1bc771babbab88a": {
          "model_module": "@jupyter-widgets/controls",
          "model_name": "HBoxModel",
          "model_module_version": "1.5.0",
          "state": {
            "_dom_classes": [],
            "_model_module": "@jupyter-widgets/controls",
            "_model_module_version": "1.5.0",
            "_model_name": "HBoxModel",
            "_view_count": null,
            "_view_module": "@jupyter-widgets/controls",
            "_view_module_version": "1.5.0",
            "_view_name": "HBoxView",
            "box_style": "",
            "children": [
              "IPY_MODEL_f6d4a18f574f43a2a768ea34cd2591eb",
              "IPY_MODEL_9bd04d7e7b4f453a8b4cebfa51ad8aa3",
              "IPY_MODEL_d14ae201f3134838a9774cdf3efe44a4"
            ],
            "layout": "IPY_MODEL_c026cede5a8945f185057987da79c088"
          }
        },
        "f6d4a18f574f43a2a768ea34cd2591eb": {
          "model_module": "@jupyter-widgets/controls",
          "model_name": "HTMLModel",
          "model_module_version": "1.5.0",
          "state": {
            "_dom_classes": [],
            "_model_module": "@jupyter-widgets/controls",
            "_model_module_version": "1.5.0",
            "_model_name": "HTMLModel",
            "_view_count": null,
            "_view_module": "@jupyter-widgets/controls",
            "_view_module_version": "1.5.0",
            "_view_name": "HTMLView",
            "description": "",
            "description_tooltip": null,
            "layout": "IPY_MODEL_20f2296c38b94ffc8b534c9289111300",
            "placeholder": "​",
            "style": "IPY_MODEL_fa3b66a8746f45f9b30f61ee77384eb5",
            "value": "Epoch 1000 | mean loss: 49.07321: 100%"
          }
        },
        "9bd04d7e7b4f453a8b4cebfa51ad8aa3": {
          "model_module": "@jupyter-widgets/controls",
          "model_name": "FloatProgressModel",
          "model_module_version": "1.5.0",
          "state": {
            "_dom_classes": [],
            "_model_module": "@jupyter-widgets/controls",
            "_model_module_version": "1.5.0",
            "_model_name": "FloatProgressModel",
            "_view_count": null,
            "_view_module": "@jupyter-widgets/controls",
            "_view_module_version": "1.5.0",
            "_view_name": "ProgressView",
            "bar_style": "success",
            "description": "",
            "description_tooltip": null,
            "layout": "IPY_MODEL_31408d31964f469a922942a23ac6346d",
            "max": 1000,
            "min": 0,
            "orientation": "horizontal",
            "style": "IPY_MODEL_734eb7930e3e4231bf1b5aafc49c2d0d",
            "value": 1000
          }
        },
        "d14ae201f3134838a9774cdf3efe44a4": {
          "model_module": "@jupyter-widgets/controls",
          "model_name": "HTMLModel",
          "model_module_version": "1.5.0",
          "state": {
            "_dom_classes": [],
            "_model_module": "@jupyter-widgets/controls",
            "_model_module_version": "1.5.0",
            "_model_name": "HTMLModel",
            "_view_count": null,
            "_view_module": "@jupyter-widgets/controls",
            "_view_module_version": "1.5.0",
            "_view_name": "HTMLView",
            "description": "",
            "description_tooltip": null,
            "layout": "IPY_MODEL_58a82201279c48d3adb8ac3273c7b60f",
            "placeholder": "​",
            "style": "IPY_MODEL_aef4b31006054937b7a7a56b812d5bb5",
            "value": " 1000/1000 [02:59&lt;00:00,  5.61epoch/s]"
          }
        },
        "c026cede5a8945f185057987da79c088": {
          "model_module": "@jupyter-widgets/base",
          "model_name": "LayoutModel",
          "model_module_version": "1.2.0",
          "state": {
            "_model_module": "@jupyter-widgets/base",
            "_model_module_version": "1.2.0",
            "_model_name": "LayoutModel",
            "_view_count": null,
            "_view_module": "@jupyter-widgets/base",
            "_view_module_version": "1.2.0",
            "_view_name": "LayoutView",
            "align_content": null,
            "align_items": null,
            "align_self": null,
            "border": null,
            "bottom": null,
            "display": null,
            "flex": null,
            "flex_flow": null,
            "grid_area": null,
            "grid_auto_columns": null,
            "grid_auto_flow": null,
            "grid_auto_rows": null,
            "grid_column": null,
            "grid_gap": null,
            "grid_row": null,
            "grid_template_areas": null,
            "grid_template_columns": null,
            "grid_template_rows": null,
            "height": null,
            "justify_content": null,
            "justify_items": null,
            "left": null,
            "margin": null,
            "max_height": null,
            "max_width": null,
            "min_height": null,
            "min_width": null,
            "object_fit": null,
            "object_position": null,
            "order": null,
            "overflow": null,
            "overflow_x": null,
            "overflow_y": null,
            "padding": null,
            "right": null,
            "top": null,
            "visibility": null,
            "width": null
          }
        },
        "20f2296c38b94ffc8b534c9289111300": {
          "model_module": "@jupyter-widgets/base",
          "model_name": "LayoutModel",
          "model_module_version": "1.2.0",
          "state": {
            "_model_module": "@jupyter-widgets/base",
            "_model_module_version": "1.2.0",
            "_model_name": "LayoutModel",
            "_view_count": null,
            "_view_module": "@jupyter-widgets/base",
            "_view_module_version": "1.2.0",
            "_view_name": "LayoutView",
            "align_content": null,
            "align_items": null,
            "align_self": null,
            "border": null,
            "bottom": null,
            "display": null,
            "flex": null,
            "flex_flow": null,
            "grid_area": null,
            "grid_auto_columns": null,
            "grid_auto_flow": null,
            "grid_auto_rows": null,
            "grid_column": null,
            "grid_gap": null,
            "grid_row": null,
            "grid_template_areas": null,
            "grid_template_columns": null,
            "grid_template_rows": null,
            "height": null,
            "justify_content": null,
            "justify_items": null,
            "left": null,
            "margin": null,
            "max_height": null,
            "max_width": null,
            "min_height": null,
            "min_width": null,
            "object_fit": null,
            "object_position": null,
            "order": null,
            "overflow": null,
            "overflow_x": null,
            "overflow_y": null,
            "padding": null,
            "right": null,
            "top": null,
            "visibility": null,
            "width": null
          }
        },
        "fa3b66a8746f45f9b30f61ee77384eb5": {
          "model_module": "@jupyter-widgets/controls",
          "model_name": "DescriptionStyleModel",
          "model_module_version": "1.5.0",
          "state": {
            "_model_module": "@jupyter-widgets/controls",
            "_model_module_version": "1.5.0",
            "_model_name": "DescriptionStyleModel",
            "_view_count": null,
            "_view_module": "@jupyter-widgets/base",
            "_view_module_version": "1.2.0",
            "_view_name": "StyleView",
            "description_width": ""
          }
        },
        "31408d31964f469a922942a23ac6346d": {
          "model_module": "@jupyter-widgets/base",
          "model_name": "LayoutModel",
          "model_module_version": "1.2.0",
          "state": {
            "_model_module": "@jupyter-widgets/base",
            "_model_module_version": "1.2.0",
            "_model_name": "LayoutModel",
            "_view_count": null,
            "_view_module": "@jupyter-widgets/base",
            "_view_module_version": "1.2.0",
            "_view_name": "LayoutView",
            "align_content": null,
            "align_items": null,
            "align_self": null,
            "border": null,
            "bottom": null,
            "display": null,
            "flex": null,
            "flex_flow": null,
            "grid_area": null,
            "grid_auto_columns": null,
            "grid_auto_flow": null,
            "grid_auto_rows": null,
            "grid_column": null,
            "grid_gap": null,
            "grid_row": null,
            "grid_template_areas": null,
            "grid_template_columns": null,
            "grid_template_rows": null,
            "height": null,
            "justify_content": null,
            "justify_items": null,
            "left": null,
            "margin": null,
            "max_height": null,
            "max_width": null,
            "min_height": null,
            "min_width": null,
            "object_fit": null,
            "object_position": null,
            "order": null,
            "overflow": null,
            "overflow_x": null,
            "overflow_y": null,
            "padding": null,
            "right": null,
            "top": null,
            "visibility": null,
            "width": null
          }
        },
        "734eb7930e3e4231bf1b5aafc49c2d0d": {
          "model_module": "@jupyter-widgets/controls",
          "model_name": "ProgressStyleModel",
          "model_module_version": "1.5.0",
          "state": {
            "_model_module": "@jupyter-widgets/controls",
            "_model_module_version": "1.5.0",
            "_model_name": "ProgressStyleModel",
            "_view_count": null,
            "_view_module": "@jupyter-widgets/base",
            "_view_module_version": "1.2.0",
            "_view_name": "StyleView",
            "bar_color": null,
            "description_width": ""
          }
        },
        "58a82201279c48d3adb8ac3273c7b60f": {
          "model_module": "@jupyter-widgets/base",
          "model_name": "LayoutModel",
          "model_module_version": "1.2.0",
          "state": {
            "_model_module": "@jupyter-widgets/base",
            "_model_module_version": "1.2.0",
            "_model_name": "LayoutModel",
            "_view_count": null,
            "_view_module": "@jupyter-widgets/base",
            "_view_module_version": "1.2.0",
            "_view_name": "LayoutView",
            "align_content": null,
            "align_items": null,
            "align_self": null,
            "border": null,
            "bottom": null,
            "display": null,
            "flex": null,
            "flex_flow": null,
            "grid_area": null,
            "grid_auto_columns": null,
            "grid_auto_flow": null,
            "grid_auto_rows": null,
            "grid_column": null,
            "grid_gap": null,
            "grid_row": null,
            "grid_template_areas": null,
            "grid_template_columns": null,
            "grid_template_rows": null,
            "height": null,
            "justify_content": null,
            "justify_items": null,
            "left": null,
            "margin": null,
            "max_height": null,
            "max_width": null,
            "min_height": null,
            "min_width": null,
            "object_fit": null,
            "object_position": null,
            "order": null,
            "overflow": null,
            "overflow_x": null,
            "overflow_y": null,
            "padding": null,
            "right": null,
            "top": null,
            "visibility": null,
            "width": null
          }
        },
        "aef4b31006054937b7a7a56b812d5bb5": {
          "model_module": "@jupyter-widgets/controls",
          "model_name": "DescriptionStyleModel",
          "model_module_version": "1.5.0",
          "state": {
            "_model_module": "@jupyter-widgets/controls",
            "_model_module_version": "1.5.0",
            "_model_name": "DescriptionStyleModel",
            "_view_count": null,
            "_view_module": "@jupyter-widgets/base",
            "_view_module_version": "1.2.0",
            "_view_name": "StyleView",
            "description_width": ""
          }
        }
      }
    }
  },
  "cells": [
    {
      "cell_type": "markdown",
      "metadata": {
        "id": "view-in-github",
        "colab_type": "text"
      },
      "source": [
        "<a href=\"https://colab.research.google.com/github/AbhinavGunti/NAM_Project/blob/main/Knowledge_Graph_Embeddings.ipynb\" target=\"_parent\"><img src=\"https://colab.research.google.com/assets/colab-badge.svg\" alt=\"Open In Colab\"/></a>"
      ]
    },
    {
      "cell_type": "code",
      "source": [
        "# !pip install torchkge"
      ],
      "metadata": {
        "colab": {
          "base_uri": "https://localhost:8080/"
        },
        "id": "aBBn5otcagq2",
        "outputId": "b90fc3ca-cdff-43d5-a786-7573fbc7e831"
      },
      "execution_count": null,
      "outputs": [
        {
          "output_type": "stream",
          "name": "stdout",
          "text": [
            "Looking in indexes: https://pypi.org/simple, https://us-python.pkg.dev/colab-wheels/public/simple/\n",
            "Collecting torchkge\n",
            "  Downloading torchkge-0.17.7-py2.py3-none-any.whl (51 kB)\n",
            "\u001b[2K     \u001b[90m━━━━━━━━━━━━━━━━━━━━━━━━━━━━━━━━━━━━━━━━\u001b[0m \u001b[32m51.6/51.6 kB\u001b[0m \u001b[31m2.2 MB/s\u001b[0m eta \u001b[36m0:00:00\u001b[0m\n",
            "\u001b[?25hRequirement already satisfied: pandas>=1.4 in /usr/local/lib/python3.9/dist-packages (from torchkge) (1.5.3)\n",
            "Requirement already satisfied: tqdm>=4.64 in /usr/local/lib/python3.9/dist-packages (from torchkge) (4.65.0)\n",
            "Requirement already satisfied: numpy>=1.22 in /usr/local/lib/python3.9/dist-packages (from torchkge) (1.22.4)\n",
            "Requirement already satisfied: torch>=1.2.0 in /usr/local/lib/python3.9/dist-packages (from torchkge) (2.0.0+cu118)\n",
            "Requirement already satisfied: pytz>=2020.1 in /usr/local/lib/python3.9/dist-packages (from pandas>=1.4->torchkge) (2022.7.1)\n",
            "Requirement already satisfied: python-dateutil>=2.8.1 in /usr/local/lib/python3.9/dist-packages (from pandas>=1.4->torchkge) (2.8.2)\n",
            "Requirement already satisfied: jinja2 in /usr/local/lib/python3.9/dist-packages (from torch>=1.2.0->torchkge) (3.1.2)\n",
            "Requirement already satisfied: networkx in /usr/local/lib/python3.9/dist-packages (from torch>=1.2.0->torchkge) (3.1)\n",
            "Requirement already satisfied: filelock in /usr/local/lib/python3.9/dist-packages (from torch>=1.2.0->torchkge) (3.11.0)\n",
            "Requirement already satisfied: triton==2.0.0 in /usr/local/lib/python3.9/dist-packages (from torch>=1.2.0->torchkge) (2.0.0)\n",
            "Requirement already satisfied: typing-extensions in /usr/local/lib/python3.9/dist-packages (from torch>=1.2.0->torchkge) (4.5.0)\n",
            "Requirement already satisfied: sympy in /usr/local/lib/python3.9/dist-packages (from torch>=1.2.0->torchkge) (1.11.1)\n",
            "Requirement already satisfied: lit in /usr/local/lib/python3.9/dist-packages (from triton==2.0.0->torch>=1.2.0->torchkge) (16.0.1)\n",
            "Requirement already satisfied: cmake in /usr/local/lib/python3.9/dist-packages (from triton==2.0.0->torch>=1.2.0->torchkge) (3.25.2)\n",
            "Requirement already satisfied: six>=1.5 in /usr/local/lib/python3.9/dist-packages (from python-dateutil>=2.8.1->pandas>=1.4->torchkge) (1.16.0)\n",
            "Requirement already satisfied: MarkupSafe>=2.0 in /usr/local/lib/python3.9/dist-packages (from jinja2->torch>=1.2.0->torchkge) (2.1.2)\n",
            "Requirement already satisfied: mpmath>=0.19 in /usr/local/lib/python3.9/dist-packages (from sympy->torch>=1.2.0->torchkge) (1.3.0)\n",
            "Installing collected packages: torchkge\n",
            "Successfully installed torchkge-0.17.7\n"
          ]
        }
      ]
    },
    {
      "cell_type": "markdown",
      "source": [],
      "metadata": {
        "id": "cMIZIqdIsEAp"
      }
    },
    {
      "cell_type": "code",
      "source": [
        "from torch import cuda\n",
        "from torch.optim import Adam\n",
        "\n",
        "from torchkge.models import TransEModel,TransRModel,TransDModel,TransHModel\n",
        "\n",
        "from torchkge.sampling import BernoulliNegativeSampler\n",
        "from torchkge.utils import MarginLoss, DataLoader\n",
        "from torchkge.utils.datasets import load_fb15k\n",
        "\n",
        "from tqdm.autonotebook import tqdm\n",
        "import torch"
      ],
      "metadata": {
        "id": "7Z6iXeaFadwz"
      },
      "execution_count": 47,
      "outputs": []
    },
    {
      "cell_type": "markdown",
      "source": [
        "# Dataset"
      ],
      "metadata": {
        "id": "486c0--VqO4o"
      }
    },
    {
      "cell_type": "code",
      "source": [
        "dataset=load_fb15k()"
      ],
      "metadata": {
        "id": "WWs42azIqOh7"
      },
      "execution_count": 24,
      "outputs": []
    },
    {
      "cell_type": "markdown",
      "source": [
        "# TransE"
      ],
      "metadata": {
        "id": "JQFUQtsxeeFW"
      }
    },
    {
      "cell_type": "code",
      "source": [
        "# Load dataset\n",
        "kg_train, _, _ = load_fb15k()\n",
        "\n",
        "# Define some hyper-parameters for training\n",
        "emb_dim = 100\n",
        "lr = 0.0004\n",
        "n_epochs = 1000\n",
        "b_size = 32768\n",
        "margin = 0.5\n",
        "\n",
        "# Define the model and criterion\n",
        "model_TransE = TransEModel(emb_dim, kg_train.n_ent, kg_train.n_rel, dissimilarity_type='L2')\n",
        "criterion = MarginLoss(margin)\n",
        "model_TransE\n",
        "\n",
        "# Move everything to CUDA if available\n",
        "if cuda.is_available():\n",
        "    cuda.empty_cache()\n",
        "    model_TransE.cuda()\n",
        "    criterion.cuda()\n",
        "# Define the torch optimizer to be used\n",
        "optimizer = Adam(model_TransE.parameters(), lr=lr, weight_decay=1e-5)\n",
        "\n",
        "sampler = BernoulliNegativeSampler(kg_train)\n",
        "dataloader = DataLoader(kg_train, batch_size=b_size, use_cuda='all')\n",
        "iterator = tqdm(range(n_epochs), unit='epoch')\n",
        "for epoch in iterator:\n",
        "    running_loss = 0.0\n",
        "    for i, batch in enumerate(dataloader):\n",
        "        h, t, r = batch[0], batch[1], batch[2]\n",
        "        n_h, n_t = sampler.corrupt_batch(h, t, r)\n",
        "\n",
        "        optimizer.zero_grad()\n",
        "\n",
        "        # forward + backward + optimize\n",
        "        pos, neg = model_TransE(h, t, r, n_h, n_t)\n",
        "        loss = criterion(pos, neg)\n",
        "        loss.backward()\n",
        "        optimizer.step()\n",
        "\n",
        "        running_loss += loss.item()\n",
        "    iterator.set_description(\n",
        "        'Epoch {} | mean loss: {:.5f}'.format(epoch + 1,\n",
        "                                              running_loss / len(dataloader)))\n",
        "\n",
        "model_TransE.normalize_parameters()"
      ],
      "metadata": {
        "id": "lJxcgQ1zaW1c",
        "colab": {
          "base_uri": "https://localhost:8080/",
          "height": 49,
          "referenced_widgets": [
            "51bcb3e36b664ff89b86df1096b16047",
            "66f50888de0e4d91bc08e4be4ff6083a",
            "01e6537a5b984c5dbf7f9ded2e5cce05",
            "8ee2efdcd5c34b45be8fd2eca4072b6a",
            "79d961cf37b742698827a630ec118d92",
            "695cf6579fab45afa36a3944ec9137ea",
            "c057897e8b73459bbc95d8de562e182d",
            "3ebe2c1659fc41dd83fedbfbbc161f5a",
            "719694b497c742d8919bd11247e66049",
            "4b8cc2dd91714b59bab2820b003a75dc",
            "d060e7a0e6e84a8ea3e282312d2cbda9"
          ]
        },
        "outputId": "c7b7cb83-a10d-4579-cddc-41bbac31654a"
      },
      "execution_count": null,
      "outputs": [
        {
          "output_type": "display_data",
          "data": {
            "text/plain": [
              "  0%|          | 0/1000 [00:00<?, ?epoch/s]"
            ],
            "application/vnd.jupyter.widget-view+json": {
              "version_major": 2,
              "version_minor": 0,
              "model_id": "51bcb3e36b664ff89b86df1096b16047"
            }
          },
          "metadata": {}
        }
      ]
    },
    {
      "cell_type": "code",
      "source": [
        "entities_embeddings_transE=model_TransE.get_embeddings()[0]\n",
        "relations_embeddings_transE=model_TransE.get_embeddings()[1]\n",
        "len(entities_embeddings_transE),len(relations_embeddings_transE)\n",
        "len(entities_embeddings_transE[1]) #embedding dimension : 100"
      ],
      "metadata": {
        "colab": {
          "base_uri": "https://localhost:8080/"
        },
        "id": "ssw7qjGGt7_E",
        "outputId": "7af5c622-63d8-4c9f-87d3-9f15b62d82a1"
      },
      "execution_count": 34,
      "outputs": [
        {
          "output_type": "execute_result",
          "data": {
            "text/plain": [
              "(14951, 1345)"
            ]
          },
          "metadata": {},
          "execution_count": 34
        }
      ]
    },
    {
      "cell_type": "markdown",
      "source": [
        "# TransH"
      ],
      "metadata": {
        "id": "10QxzDFjnLLL"
      }
    },
    {
      "cell_type": "code",
      "source": [
        "# Load dataset\n",
        "kg_train, _, _ = load_fb15k()\n",
        "\n",
        "# Define some hyper-parameters for training\n",
        "emb_dim = 100\n",
        "lr = 0.0004\n",
        "n_epochs = 1000\n",
        "b_size = 32768\n",
        "margin = 0.5\n",
        "\n",
        "# Define the model and criterion\n",
        "model_TransH = TransEModel(emb_dim, kg_train.n_ent, kg_train.n_rel, dissimilarity_type='L2')\n",
        "criterion = MarginLoss(margin)\n",
        "model_TransH\n",
        "\n",
        "# Move everything to CUDA if available\n",
        "if cuda.is_available():\n",
        "    cuda.empty_cache()\n",
        "    model_TransH.cuda()\n",
        "    criterion.cuda()\n",
        "# Define the torch optimizer to be used\n",
        "optimizer = Adam(model_TransH.parameters(), lr=lr, weight_decay=1e-5)\n",
        "\n",
        "sampler = BernoulliNegativeSampler(kg_train)\n",
        "dataloader = DataLoader(kg_train, batch_size=b_size, use_cuda='all')\n",
        "iterator = tqdm(range(n_epochs), unit='epoch')\n",
        "for epoch in iterator:\n",
        "    running_loss = 0.0\n",
        "    for i, batch in enumerate(dataloader):\n",
        "        h, t, r = batch[0], batch[1], batch[2]\n",
        "        n_h, n_t = sampler.corrupt_batch(h, t, r)\n",
        "\n",
        "        optimizer.zero_grad()\n",
        "\n",
        "        # forward + backward + optimize\n",
        "        pos, neg = model_TransH(h, t, r, n_h, n_t)\n",
        "        loss = criterion(pos, neg)\n",
        "        loss.backward()\n",
        "        optimizer.step()\n",
        "\n",
        "        running_loss += loss.item()\n",
        "    iterator.set_description(\n",
        "        'Epoch {} | mean loss: {:.5f}'.format(epoch + 1,\n",
        "                                              running_loss / len(dataloader)))\n",
        "\n",
        "model_TransH.normalize_parameters()"
      ],
      "metadata": {
        "colab": {
          "base_uri": "https://localhost:8080/",
          "height": 49,
          "referenced_widgets": [
            "bf42339587d14a65b1bc771babbab88a",
            "f6d4a18f574f43a2a768ea34cd2591eb",
            "9bd04d7e7b4f453a8b4cebfa51ad8aa3",
            "d14ae201f3134838a9774cdf3efe44a4",
            "c026cede5a8945f185057987da79c088",
            "20f2296c38b94ffc8b534c9289111300",
            "fa3b66a8746f45f9b30f61ee77384eb5",
            "31408d31964f469a922942a23ac6346d",
            "734eb7930e3e4231bf1b5aafc49c2d0d",
            "58a82201279c48d3adb8ac3273c7b60f",
            "aef4b31006054937b7a7a56b812d5bb5"
          ]
        },
        "id": "o-blhBCKjqaV",
        "outputId": "26d1fc78-86a1-4972-8a8d-c96e665bc1d8"
      },
      "execution_count": null,
      "outputs": [
        {
          "output_type": "display_data",
          "data": {
            "text/plain": [
              "  0%|          | 0/1000 [00:00<?, ?epoch/s]"
            ],
            "application/vnd.jupyter.widget-view+json": {
              "version_major": 2,
              "version_minor": 0,
              "model_id": "bf42339587d14a65b1bc771babbab88a"
            }
          },
          "metadata": {}
        }
      ]
    },
    {
      "cell_type": "code",
      "source": [
        "for i,batch in enumerate(dataloader):\n",
        "  print(batch[0])\n",
        "h_idx, t_idx, r_idx = batch[0], batch[1], batch[2]\n",
        "print(f\"Head : {h_idx}\\nTail : {t_idx}\\nRelation {r_idx}\")"
      ],
      "metadata": {
        "colab": {
          "base_uri": "https://localhost:8080/"
        },
        "id": "XygvJxrgvegk",
        "outputId": "b4481fc6-30b4-478a-b3a9-79a0d9848f4b"
      },
      "execution_count": 63,
      "outputs": [
        {
          "output_type": "stream",
          "name": "stdout",
          "text": [
            "tensor([ 3920,   839, 10094,  ...,  2025,   751, 12048], device='cuda:0')\n",
            "tensor([11326,  4707,  5877,  ...,  1075, 11686,    58], device='cuda:0')\n",
            "tensor([12914, 13653,  8606,  ...,  5568,   894, 11632], device='cuda:0')\n",
            "tensor([ 6310, 13426,  2648,  ...,  8743,   718,  3426], device='cuda:0')\n",
            "tensor([ 4527,  2986,  8805,  ...,  9907, 12944,  1856], device='cuda:0')\n",
            "tensor([ 9275, 12933, 13989,  ...,  4686,  1070, 11677], device='cuda:0')\n",
            "tensor([11853,  7585, 12238,  ..., 10726, 12688,   577], device='cuda:0')\n",
            "tensor([  448,  6560, 13137,  ...,  8178,  8951, 10081], device='cuda:0')\n",
            "tensor([ 3715,   243, 12234,  ...,  7945,  3575,  9342], device='cuda:0')\n",
            "tensor([ 8138,  3311, 14526,  ...,  2747,  8735,  9494], device='cuda:0')\n",
            "tensor([14594,  7255,  3248,  ...,   649,  6169,  1705], device='cuda:0')\n",
            "tensor([  715,  5174,  5434,  ..., 12031,  4595, 12182], device='cuda:0')\n",
            "tensor([ 8062,  8163, 12982,  ...,  5968, 10505, 11255], device='cuda:0')\n",
            "tensor([14192,  5380, 11413,  ...,  4854, 11200, 10842], device='cuda:0')\n",
            "tensor([12862,  6629, 13928,  ...,  8170, 13723,  6647], device='cuda:0')\n",
            "Head : tensor([12862,  6629, 13928,  ...,  8170, 13723,  6647], device='cuda:0')\n",
            "Tail : tensor([10734,  3837,  5792,  ..., 13876,  8121,  6817], device='cuda:0')\n",
            "Relation tensor([ 595,   83,  922,  ...,  100, 1030,  851], device='cuda:0')\n"
          ]
        }
      ]
    },
    {
      "cell_type": "code",
      "source": [
        "score_1=model_TransH.scoring_function(h_idx, t_idx, r_idx)\n",
        "score_1"
      ],
      "metadata": {
        "colab": {
          "base_uri": "https://localhost:8080/"
        },
        "id": "duOhYUtzxtks",
        "outputId": "e572caab-c523-416e-b0da-f5a7f917ee02"
      },
      "execution_count": 64,
      "outputs": [
        {
          "output_type": "execute_result",
          "data": {
            "text/plain": [
              "tensor([-5.9702, -2.7647, -2.8393,  ..., -2.2246, -2.2750, -1.6837],\n",
              "       device='cuda:0', grad_fn=<NegBackward0>)"
            ]
          },
          "metadata": {},
          "execution_count": 64
        }
      ]
    },
    {
      "cell_type": "code",
      "source": [
        "torch.tensor(1)"
      ],
      "metadata": {
        "colab": {
          "base_uri": "https://localhost:8080/"
        },
        "id": "eT5iFpIHynYX",
        "outputId": "b170039e-3e86-4a9b-cb40-cd9836e4ad85"
      },
      "execution_count": 48,
      "outputs": [
        {
          "output_type": "execute_result",
          "data": {
            "text/plain": [
              "tensor(1)"
            ]
          },
          "metadata": {},
          "execution_count": 48
        }
      ]
    },
    {
      "cell_type": "markdown",
      "source": [
        "# TransD"
      ],
      "metadata": {
        "id": "2_vQPNa_uoMb"
      }
    },
    {
      "cell_type": "code",
      "source": [
        "# # Load dataset\n",
        "# kg_train, _, _ = load_fb15k()\n",
        "\n",
        "# # Define some hyper-parameters for training\n",
        "# emb_dim = 100\n",
        "# lr = 0.0004\n",
        "# n_epochs = 1000\n",
        "# b_size = 32768\n",
        "# margin = 0.5\n",
        "\n",
        "# # Define the model and criterion\n",
        "# model_TransD = TransDModel(emb_dim, kg_train.n_ent, kg_train.n_rel, dissimilarity_type='L2')\n",
        "# criterion = MarginLoss(margin)\n",
        "# model_TransD\n",
        "\n",
        "# # Move everything to CUDA if available\n",
        "# if cuda.is_available():\n",
        "#     cuda.empty_cache()\n",
        "#     model_TransD.cuda()\n",
        "#     criterion.cuda()\n",
        "# # Define the torch optimizer to be used\n",
        "# optimizer = Adam(model_TransD.parameters(), lr=lr, weight_decay=1e-5)\n",
        "\n",
        "# sampler = BernoulliNegativeSampler(kg_train)\n",
        "# dataloader = DataLoader(kg_train, batch_size=b_size, use_cuda='all')\n",
        "# iterator = tqdm(range(n_epochs), unit='epoch')\n",
        "# for epoch in iterator:\n",
        "#     running_loss = 0.0\n",
        "#     for i, batch in enumerate(dataloader):\n",
        "#         h, t, r = batch[0], batch[1], batch[2]\n",
        "#         n_h, n_t = sampler.corrupt_batch(h, t, r)\n",
        "\n",
        "#         optimizer.zero_grad()\n",
        "\n",
        "#         # forward + backward + optimize\n",
        "#         pos, neg = model_TransD(h, t, r, n_h, n_t)\n",
        "#         loss = criterion(pos, neg)\n",
        "#         loss.backward()\n",
        "#         optimizer.step()\n",
        "\n",
        "#         running_loss += loss.item()\n",
        "#     iterator.set_description(\n",
        "#         'Epoch {} | mean loss: {:.5f}'.format(epoch + 1,\n",
        "#                                               running_loss / len(dataloader)))\n",
        "\n",
        "# model_TransD.normalize_parameters()"
      ],
      "metadata": {
        "id": "AUtgoR48uqpQ"
      },
      "execution_count": 38,
      "outputs": []
    },
    {
      "cell_type": "markdown",
      "source": [
        "# TransR"
      ],
      "metadata": {
        "id": "s-SrfjSNvBuQ"
      }
    },
    {
      "cell_type": "code",
      "source": [],
      "metadata": {
        "id": "5nzaTMstvGLC"
      },
      "execution_count": null,
      "outputs": []
    }
  ]
}